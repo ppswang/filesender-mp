{
 "cells": [
  {
   "cell_type": "code",
   "execution_count": 13,
   "id": "c9cae81a-2aea-4fac-b3b9-8a25738e2b77",
   "metadata": {},
   "outputs": [],
   "source": [
    "import requests\n",
    "import xml.etree.ElementTree as ET\n",
    "from html.parser import HTMLParser"
   ]
  },
  {
   "cell_type": "code",
   "execution_count": null,
   "id": "0dbe8524-a52c-4689-bb92-a835c6141d37",
   "metadata": {},
   "outputs": [],
   "source": []
  },
  {
   "cell_type": "code",
   "execution_count": null,
   "id": "c55bc9b1-5592-4cad-933d-91062ef4450e",
   "metadata": {},
   "outputs": [],
   "source": []
  },
  {
   "cell_type": "code",
   "execution_count": null,
   "id": "7792f381-240d-4733-8807-adfcf8cd10d5",
   "metadata": {},
   "outputs": [],
   "source": []
  },
  {
   "cell_type": "code",
   "execution_count": null,
   "id": "dd9194b4-0a52-4493-974f-d117468d3f08",
   "metadata": {},
   "outputs": [],
   "source": []
  },
  {
   "cell_type": "code",
   "execution_count": 36,
   "id": "d6885753-934f-49a3-aa33-07b5dacb0504",
   "metadata": {},
   "outputs": [],
   "source": [
    "\n",
    "def download_html(url):\n",
    "    try:\n",
    "        response = requests.get(url)\n",
    "        response.raise_for_status()  # Check if the request was successful\n",
    "        return response.text\n",
    "    except requests.exceptions.RequestException as e:\n",
    "        print(f\"An error occurred: {e}\")\n",
    "        return None\n",
    "\n",
    "\n",
    "class MyHTMLParser(HTMLParser):\n",
    "    def __init__(self):\n",
    "        super().__init__()\n",
    "        self.capture_data = False\n",
    "        self.target_class = \"\"\n",
    "        self.captured_data = []\n",
    "\n",
    "    def handle_starttag(self, tag, attrs):\n",
    "        if tag == \"span\":\n",
    "            for attr in attrs:\n",
    "                if attr[0] == \"class\" and attr[1] == self.target_class:\n",
    "                    self.capture_data = True\n",
    "\n",
    "    def handle_endtag(self, tag):\n",
    "        if tag == \"span\" and self.capture_data:\n",
    "            self.capture_data = False\n",
    "\n",
    "    def handle_data(self, data):\n",
    "        if self.capture_data:\n",
    "            self.captured_data.append(data)\n",
    "\n",
    "    def extract_span_by_class(self, html, class_value):\n",
    "        self.target_class = class_value\n",
    "        self.captured_data = []\n",
    "        self.feed(html)\n",
    "        return self.captured_data\n"
   ]
  },
  {
   "cell_type": "code",
   "execution_count": 31,
   "id": "37a457e7-fa4f-483c-84dd-bdd03f8a7888",
   "metadata": {},
   "outputs": [],
   "source": [
    "\n",
    "url = \"https://www.example.com\"\n",
    "url = \"https://filesender.aarnet.edu.au/?s=download&token=d6be9395-9fc6-427f-b565-289cb32a16e2\"\n",
    "html_content = download_html(url)"
   ]
  },
  {
   "cell_type": "code",
   "execution_count": null,
   "id": "2c4637b2-04c8-40ad-8c0c-e2c1bb3f042f",
   "metadata": {},
   "outputs": [],
   "source": []
  },
  {
   "cell_type": "code",
   "execution_count": 21,
   "id": "8e829e58-0c4f-46a7-a876-6051cbe3c7a1",
   "metadata": {},
   "outputs": [],
   "source": []
  },
  {
   "cell_type": "code",
   "execution_count": 44,
   "id": "24c488c9-ba2a-403c-8a82-99c5ee35223a",
   "metadata": {},
   "outputs": [],
   "source": [
    "\n",
    "parser = MyHTMLParser()\n",
    "directlinks = parser.extract_span_by_class(html_content, \"directlink\")\n",
    "directlinks = [x.split(\"Direct Link: \")[1].strip() for x in directlinks]\n",
    "token = url.split(\"&token=\")[1]\n",
    "fileids = [x.split(\"&files_ids=\")[1] for x in directlinks]\n"
   ]
  },
  {
   "cell_type": "code",
   "execution_count": null,
   "id": "60975e26-2bfc-4fd1-bcd1-dd2478be173f",
   "metadata": {},
   "outputs": [],
   "source": []
  },
  {
   "cell_type": "code",
   "execution_count": null,
   "id": "d973a5e6-c9b4-4e7d-80f1-6be0557c92a9",
   "metadata": {},
   "outputs": [],
   "source": []
  },
  {
   "cell_type": "code",
   "execution_count": null,
   "id": "9d855a73-8007-4a75-b5e7-5ca7aae01c3b",
   "metadata": {},
   "outputs": [],
   "source": []
  },
  {
   "cell_type": "code",
   "execution_count": null,
   "id": "ba26a9ca-02db-4041-99c3-264982b238b4",
   "metadata": {},
   "outputs": [],
   "source": []
  }
 ],
 "metadata": {
  "kernelspec": {
   "display_name": "Python 3 (ipykernel)",
   "language": "python",
   "name": "python3"
  },
  "language_info": {
   "codemirror_mode": {
    "name": "ipython",
    "version": 3
   },
   "file_extension": ".py",
   "mimetype": "text/x-python",
   "name": "python",
   "nbconvert_exporter": "python",
   "pygments_lexer": "ipython3",
   "version": "3.10.14"
  }
 },
 "nbformat": 4,
 "nbformat_minor": 5
}
