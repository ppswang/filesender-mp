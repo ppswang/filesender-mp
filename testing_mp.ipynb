{
 "cells": [
  {
   "cell_type": "code",
   "execution_count": 1,
   "id": "7f67bf21-32da-4a56-ab8b-eb9725aa0705",
   "metadata": {},
   "outputs": [],
   "source": [
    "#!/usr/bin/env python3\n",
    "#\n",
    "# FileSender www.filesender.org\n",
    "#\n",
    "# Copyright (c) 2009-2019, AARNet, Belnet, HEAnet, SURFnet, UNINETT\n",
    "# All rights reserved.\n",
    "#\n",
    "# Redistribution and use in source and binary forms, with or without\n",
    "# modification, are permitted provided that the following conditions are met:\n",
    "#\n",
    "# *   Redistributions of source code must retain the above copyright\n",
    "#     notice, this list of conditions and the following disclaimer.\n",
    "# *   Redistributions in binary form must reproduce the above copyright\n",
    "#     notice, this list of conditions and the following disclaimer in the\n",
    "#     documentation and/or other materials provided with the distribution.\n",
    "# *   Neither the name of AARNet, Belnet, HEAnet, SURFnet and UNINETT nor the\n",
    "#     names of its contributors may be used to endorse or promote products\n",
    "#     derived from this software without specific prior written permission.\n",
    "#\n",
    "# THIS SOFTWARE IS PROVIDED BY THE COPYRIGHT HOLDERS AND CONTRIBUTORS \"AS IS\"\n",
    "# AND ANY EXPRESS OR IMPLIED WARRANTIES, INCLUDING, BUT NOT LIMITED TO, THE\n",
    "# IMPLIED WARRANTIES OF MERCHANTABILITY AND FITNESS FOR A PARTICULAR PURPOSE ARE\n",
    "# DISCLAIMED. IN NO EVENT SHALL THE COPYRIGHT HOLDER OR CONTRIBUTORS BE LIABLE\n",
    "# FOR ANY DIRECT, INDIRECT, INCIDENTAL, SPECIAL, EXEMPLARY, OR CONSEQUENTIAL\n",
    "# DAMAGES (INCLUDING, BUT NOT LIMITED TO, PROCUREMENT OF SUBSTITUTE GOODS OR\n",
    "# SERVICES; LOSS OF USE, DATA, OR PROFITS; OR BUSINESS INTERRUPTION) HOWEVER\n",
    "# CAUSED AND ON ANY THEORY OF LIABILITY, WHETHER IN CONTRACT, STRICT LIABILITY,\n",
    "# OR TORT (INCLUDING NEGLIGENCE OR OTHERWISE) ARISING IN ANY WAY OUT OF THE USE\n",
    "# OF THIS SOFTWARE, EVEN IF ADVISED OF THE POSSIBILITY OF SUCH DAMAGE.\n"
   ]
  },
  {
   "cell_type": "code",
   "execution_count": 2,
   "id": "66078e65-c0b5-4276-a76e-e1644b6437cd",
   "metadata": {},
   "outputs": [],
   "source": [
    "import argparse\n",
    "import requests\n",
    "import time\n",
    "from collections.abc import Iterable\n",
    "from collections.abc import MutableMapping\n",
    "import hmac\n",
    "import hashlib\n",
    "import urllib3\n",
    "import os\n",
    "import json\n",
    "import configparser\n",
    "from os.path import expanduser\n"
   ]
  },
  {
   "cell_type": "code",
   "execution_count": 3,
   "id": "e43062d1-57a0-4228-b6e9-fb8290c7a219",
   "metadata": {},
   "outputs": [],
   "source": [
    "from multiprocessing import Pool\n",
    "from functools import partial\n",
    "import time"
   ]
  },
  {
   "cell_type": "code",
   "execution_count": null,
   "id": "d2d8438e-ad3b-4b59-b4eb-2291e9092a9b",
   "metadata": {},
   "outputs": [],
   "source": []
  },
  {
   "cell_type": "code",
   "execution_count": null,
   "id": "e201835c-1cb5-4f08-8918-605cd830e6ab",
   "metadata": {},
   "outputs": [],
   "source": []
  },
  {
   "cell_type": "code",
   "execution_count": 4,
   "id": "7e42ff3d-9a5d-42c8-b2c9-142d40835252",
   "metadata": {},
   "outputs": [],
   "source": [
    "urllib3.disable_warnings(urllib3.exceptions.InsecureRequestWarning)\n"
   ]
  },
  {
   "cell_type": "code",
   "execution_count": null,
   "id": "654a77b4-019c-489c-9fde-1a794ede5091",
   "metadata": {},
   "outputs": [],
   "source": []
  },
  {
   "cell_type": "code",
   "execution_count": 5,
   "id": "480d968a-9f6c-4f2f-91f5-8e271dee21b6",
   "metadata": {},
   "outputs": [],
   "source": [
    "def flatten(d, parent_key=''):\n",
    "    items = []\n",
    "    for k, v in d.items():\n",
    "        new_key = parent_key + '[' + k + ']' if parent_key else k\n",
    "        if isinstance(v, MutableMapping):\n",
    "            items.extend(flatten(v, new_key).items())\n",
    "        else:\n",
    "            items.append(new_key+'='+v)\n",
    "    items.sort()\n",
    "    return items\n",
    "\n"
   ]
  },
  {
   "cell_type": "code",
   "execution_count": 6,
   "id": "5c379d35-eac7-4b18-a02f-8c006e985ada",
   "metadata": {},
   "outputs": [],
   "source": [
    "\n",
    "def call(method, path, data, content=None, rawContent=None, options={}):\n",
    "    data['remote_user'] = username\n",
    "    data['timestamp'] = str(round(time.time()))\n",
    "    flatdata = flatten(data)\n",
    "    signed = bytes(method+'&'+base_url.replace('https://', '',\n",
    "                   1).replace('http://', '', 1)+path+'?'+('&'.join(flatten(data))), 'ascii')\n",
    "\n",
    "    content_type = options['Content-Type'] if 'Content-Type' in options else 'application/json'\n",
    "\n",
    "    inputcontent = None\n",
    "    if content is not None and content_type == 'application/json':\n",
    "        inputcontent = json.dumps(content, separators=(',', ':'))\n",
    "        signed += bytes('&'+inputcontent, 'ascii')\n",
    "    elif rawContent is not None:\n",
    "        inputcontent = rawContent\n",
    "        signed += bytes('&', 'ascii')\n",
    "        signed += inputcontent\n",
    "\n",
    "    # print(signed)\n",
    "    bkey = bytearray()\n",
    "    bkey.extend(map(ord, apikey))\n",
    "    data['signature'] = hmac.new(bkey, signed, hashlib.sha1).hexdigest()\n",
    "\n",
    "    url = base_url+path+'?'+('&'.join(flatten(data)))\n",
    "    headers = {\n",
    "        \"Accept\": \"application/json\",\n",
    "        \"Content-Type\": content_type\n",
    "    }\n",
    "    response = None\n",
    "    if method == \"get\":\n",
    "        response = requests.get(url, verify=not insecure, headers=headers)\n",
    "    elif method == \"post\":\n",
    "        response = requests.post(\n",
    "            url, data=inputcontent, verify=not insecure, headers=headers)\n",
    "    elif method == \"put\":\n",
    "        response = requests.put(url, data=inputcontent,\n",
    "                                verify=not insecure, headers=headers)\n",
    "    elif method == \"delete\":\n",
    "        response = requests.delete(url, verify=not insecure, headers=headers)\n",
    "\n",
    "    if response is None:\n",
    "        raise Exception('Client error')\n",
    "\n",
    "    code = response.status_code\n",
    "    # print(url)\n",
    "    # print(inputcontent)\n",
    "    # print(code)\n",
    "    # print(response.text)\n",
    "\n",
    "    if code != 200:\n",
    "        if method != 'post' or code != 201:\n",
    "            raise Exception('Http error '+str(code)+' '+response.text)\n",
    "\n",
    "    if response.text == \"\":\n",
    "        raise Exception('Http error '+str(code)+' Empty response')\n",
    "\n",
    "    if method != 'post':\n",
    "        return response.json()\n",
    "\n",
    "    r = {}\n",
    "    r['location'] = response.headers['Location']\n",
    "    r['created'] = response.json()\n",
    "    return r\n"
   ]
  },
  {
   "cell_type": "code",
   "execution_count": 7,
   "id": "418046c8-2a6c-4f9e-b256-2876d05000b1",
   "metadata": {},
   "outputs": [],
   "source": [
    "\n",
    "def postTransfer(user_id, files, recipients, subject=None, message=None, expires=None, options=[]):\n",
    "\n",
    "    if expires is None:\n",
    "        expires = round(time.time()) + (default_transfer_days_valid*24*3600)\n",
    "\n",
    "    to = [x.strip() for x in recipients.split(',')]\n",
    "\n",
    "    return call(\n",
    "        'post',\n",
    "        '/transfer',\n",
    "        {},\n",
    "        {\n",
    "            'from': user_id,\n",
    "            'files': files,\n",
    "            'recipients': to,\n",
    "            'subject': subject,\n",
    "            'message': message,\n",
    "            'expires': expires,\n",
    "            'aup_checked': 1,\n",
    "            'options': options\n",
    "        },\n",
    "        None,\n",
    "        {}\n",
    "    )\n"
   ]
  },
  {
   "cell_type": "code",
   "execution_count": 8,
   "id": "52b11dd0-be7b-4b4c-b241-a266a0ab3f41",
   "metadata": {},
   "outputs": [],
   "source": [
    "def putChunk(t, f, chunk, offset):\n",
    "    return call(\n",
    "        'put',\n",
    "        '/file/'+str(f['id'])+'/chunk/'+str(offset),\n",
    "        {'key': f['uid'], 'roundtriptoken': t['roundtriptoken']},\n",
    "        None,\n",
    "        chunk,\n",
    "        {'Content-Type': 'application/octet-stream'}\n",
    "    )\n",
    "\n"
   ]
  },
  {
   "cell_type": "code",
   "execution_count": 9,
   "id": "6732e809-cdc7-40de-bc0a-ac0b1b99dced",
   "metadata": {},
   "outputs": [],
   "source": [
    "def fileComplete(t,f):\n",
    "    return call(\n",
    "        'put',\n",
    "        '/file/'+str(f['id']),\n",
    "        { 'key': f['uid'], 'roundtriptoken': t['roundtriptoken'] },\n",
    "        { 'complete': True },\n",
    "        None,\n",
    "        {}\n",
    "    )\n"
   ]
  },
  {
   "cell_type": "code",
   "execution_count": 10,
   "id": "3b4352da-9972-4597-82c1-1c25e6978167",
   "metadata": {},
   "outputs": [],
   "source": [
    "\n",
    "\n",
    "def deleteTransfer(transfer):\n",
    "    return call(\n",
    "        'delete',\n",
    "        '/transfer/'+str(transfer['id']),\n",
    "        {'key': transfer['files'][0]['uid']},\n",
    "        None,\n",
    "        None,\n",
    "        {}\n",
    "    )"
   ]
  },
  {
   "cell_type": "code",
   "execution_count": 11,
   "id": "6b4fff1c-94de-475d-9222-eafae78400bb",
   "metadata": {},
   "outputs": [],
   "source": [
    "\n",
    "def transferComplete(transfer):\n",
    "    return call(\n",
    "        'put',\n",
    "        '/transfer/'+str(transfer['id']),\n",
    "        {'key': transfer['files'][0]['uid']},\n",
    "        {'complete': True},\n",
    "        None,\n",
    "        {}\n",
    "    )"
   ]
  },
  {
   "cell_type": "code",
   "execution_count": 24,
   "id": "a10734ce-814b-4e1e-9bfa-eac4063ce5b8",
   "metadata": {},
   "outputs": [],
   "source": [
    "def upload_file( fileobject, transferData, filesData, upload_chunk_size, debug):\n",
    "    fname = fileobject[\"name\"]\n",
    "    fsize = fileobject[\"size\"]\n",
    "    fstring = f\"{fname}:{fsize}\"\n",
    "    fpath = filesData[fstring][\"path\"]\n",
    "\n",
    "    try:\n",
    "        # putChunks\n",
    "        if debug:\n",
    "            print('putChunks: '+fpath)\n",
    "        with open(fpath, mode='rb', buffering=0) as fin:\n",
    "            chunk_count = 0\n",
    "            for offset in range(0, fsize, upload_chunk_size):\n",
    "                if progress:\n",
    "                    print('Uploading: '+fpath+' '+str(offset)+'-'+str(min(offset +\n",
    "                          upload_chunk_size, fsize))+' '+str(round(offset/fsize*100))+'%')\n",
    "                data = fin.read(upload_chunk_size)\n",
    "                # print(data)\n",
    "                putChunk(transferData, fileobject, data, offset)\n",
    "                if debug:\n",
    "                    chunk_count += 1\n",
    "                    print(f\"uploaded {chunk_count} chunks\")\n",
    "        # file complete\n",
    "        if debug:\n",
    "            print('fileComplete: '+fpath)\n",
    "        fileComplete(transferData, fileobject)\n",
    "        if progress:\n",
    "            print('Uploading: '+fpath+' '+str(size)+' 100%')\n",
    "    except Exception as e:\n",
    "        raise(e)\n"
   ]
  },
  {
   "cell_type": "code",
   "execution_count": null,
   "id": "4fd87ae1-9f8e-499f-a392-b88f50620972",
   "metadata": {},
   "outputs": [],
   "source": []
  },
  {
   "cell_type": "code",
   "execution_count": null,
   "id": "a368c49d-0312-425b-a58c-5f7540720492",
   "metadata": {},
   "outputs": [],
   "source": []
  },
  {
   "cell_type": "code",
   "execution_count": 25,
   "id": "e01afb5d-24fd-4f89-979e-bda841907979",
   "metadata": {},
   "outputs": [],
   "source": [
    "\n",
    "#argv\n",
    "parser = argparse.ArgumentParser()\n",
    "parser.add_argument(\"files\", help=\"path to file(s) to send\", nargs='+')\n",
    "parser.add_argument(\"-v\", \"--verbose\", action=\"store_true\")\n",
    "parser.add_argument(\"-i\", \"--insecure\", action=\"store_true\")\n",
    "parser.add_argument(\"-p\", \"--progress\", action=\"store_true\")\n",
    "parser.add_argument(\"-s\", \"--subject\")\n",
    "parser.add_argument(\"-m\", \"--message\")\n",
    "requiredNamed = parser.add_argument_group('required named arguments')\n",
    "\n"
   ]
  },
  {
   "cell_type": "code",
   "execution_count": 26,
   "id": "e14471b3-6cd7-4671-b745-cb15b921f63d",
   "metadata": {},
   "outputs": [],
   "source": [
    "filelist = [\"/home/paul/Downloads/bowtie-1.3.1-linux-x86_64.zip\",\n",
    "            \"/home/paul/Zotero/storage/QS8AEKXV/Gong et al. - 2022 - Analysis and Performance Assessment of the Whole G.pdf\",\n",
    "            \"/home/paul/Downloads/I100_issuu_sub.pdf\"]\n",
    "\n",
    "n_procs = min(8, len(filelist))\n"
   ]
  },
  {
   "cell_type": "code",
   "execution_count": 27,
   "id": "87c2ec6a-f68d-49f5-8e53-e1fa1bb140de",
   "metadata": {},
   "outputs": [],
   "source": [
    "# settings\n",
    "base_url = 'https://filesender.aarnet.edu.au/rest.php'\n",
    "default_transfer_days_valid = 21\n",
    "username = None\n",
    "apikey = None\n",
    "homepath = expanduser(\"~\")\n",
    "\n",
    "config = configparser.ConfigParser()\n",
    "config.read(homepath + '/.filesender/filesender.py.ini')\n",
    "if 'system' in config:\n",
    "    base_url = config['system'].get(\n",
    "        'base_url', 'https://filesender.aarnet.edu.au/rest.php')\n",
    "    default_transfer_days_valid = int(\n",
    "        config['system'].get('default_transfer_days_valid', 10))\n",
    "if 'user' in config:\n",
    "    username = config['user'].get('username')\n",
    "    apikey = config['user'].get('apikey')\n",
    "\n",
    "\n",
    "\n",
    "\n",
    "\n",
    "# if we have found these in the config file they become optional arguments\n",
    "if username is None:\n",
    "    requiredNamed.add_argument(\"-u\", \"--username\", required=True)\n",
    "else:\n",
    "    parser.add_argument(\"-u\", \"--username\")\n",
    "\n",
    "if apikey is None:\n",
    "    requiredNamed.add_argument(\"-a\", \"--apikey\", required=True)\n",
    "else:\n",
    "    parser.add_argument(\"-a\", \"--apikey\")\n",
    "\n",
    "requiredNamed.add_argument(\"-r\", \"--recipients\", required=True)\n",
    "args = parser.parse_args(\"-p -r paul.wang@sahmri.com -v -s subject -m messagebody\".split(\" \") + filelist)\n",
    "debug = args.verbose\n",
    "progress = args.progress\n",
    "insecure = args.insecure\n",
    "\n",
    "if args.username is not None:\n",
    "    username = args.username\n",
    "\n",
    "if args.apikey is not None:\n",
    "    apikey = args.apikey\n",
    "\n"
   ]
  },
  {
   "cell_type": "code",
   "execution_count": 28,
   "id": "b1223d36-74c3-467d-90da-ad65c443f244",
   "metadata": {},
   "outputs": [
    {
     "data": {
      "text/plain": [
       "{'url': 'https://filesender.aarnet.edu.au/',\n",
       " 'name': 'AARNet FileSender',\n",
       " 'logon_url': 'https://cloudstor.aarnet.edu.au/simplesaml/module.php/core/as_login.php?AuthId=default-sp&ReturnTo=__target__',\n",
       " 'upload_chunk_size': 12582912}"
      ]
     },
     "execution_count": 28,
     "metadata": {},
     "output_type": "execute_result"
    }
   ],
   "source": [
    "base_url = 'https://filesender.aarnet.edu.au/rest.php'\n",
    "response = requests.get(base_url+'/info', verify=True)\n",
    "response.json()\n"
   ]
  },
  {
   "cell_type": "code",
   "execution_count": 29,
   "id": "88e83862-1da4-45c6-b96e-a92bd636f146",
   "metadata": {},
   "outputs": [
    {
     "name": "stdout",
     "output_type": "stream",
     "text": [
      "base_url          : https://filesender.aarnet.edu.au/rest.php\n",
      "username          : paul.wang@adelaide.edu.au\n",
      "apikey            : d1f80e881bb96605a1e903b6647330e7722b43bdd5385a09e3eb97ce9bd4ea19\n",
      "upload_chunk_size : 12582912 bytes\n",
      "recipients        : paul.wang@sahmri.com\n",
      "files             : /home/paul/Downloads/bowtie-1.3.1-linux-x86_64.zip,/home/paul/Zotero/storage/QS8AEKXV/Gong et al. - 2022 - Analysis and Performance Assessment of the Whole G.pdf,/home/paul/Downloads/I100_issuu_sub.pdf\n",
      "insecure          : False\n"
     ]
    }
   ],
   "source": [
    "\n",
    "# configs\n",
    "try:\n",
    "    response = requests.get(base_url+'/info', verify=True)\n",
    "except requests.exceptions.SSLError as exc:\n",
    "    if not insecure:\n",
    "        print('Error: the SSL certificate of the server you are connecting to cannot be verified:')\n",
    "        print(exc)\n",
    "        print('For more information, please refer to https://www.digicert.com/ssl/. If you are absolutely certain of the identity of the server you are connecting to, you can use the --insecure flag to bypass this warning. Exiting...')\n",
    "        sys.exit(1)\n",
    "    elif insecure:\n",
    "        print('Warning: Error: the SSL certificate of the server you are connecting to cannot be verified:')\n",
    "        print(exc)\n",
    "        print('Running with --insecure flag, ignoring warning...')\n",
    "        response = requests.get(base_url+'/info', verify=False)\n",
    "upload_chunk_size = response.json()['upload_chunk_size']\n",
    "\n",
    "if debug:\n",
    "    print('base_url          : '+base_url)\n",
    "    print('username          : '+username)\n",
    "    print('apikey            : '+apikey)\n",
    "    print('upload_chunk_size : '+str(upload_chunk_size)+' bytes')\n",
    "    print('recipients        : '+args.recipients)\n",
    "    print('files             : '+','.join(args.files))\n",
    "    print('insecure          : '+str(insecure))\n",
    "\n"
   ]
  },
  {
   "cell_type": "code",
   "execution_count": null,
   "id": "dad06f94-4485-47f9-a7ad-56a442dd0a4d",
   "metadata": {},
   "outputs": [],
   "source": []
  },
  {
   "cell_type": "code",
   "execution_count": 30,
   "id": "aa0fe0d8-c223-4be9-a427-b548080b8565",
   "metadata": {},
   "outputs": [
    {
     "name": "stdout",
     "output_type": "stream",
     "text": [
      "postTransfer\n"
     ]
    }
   ],
   "source": [
    "\n",
    "# postTransfer\n",
    "if debug:\n",
    "    print('postTransfer')\n",
    "\n",
    "files = {}\n",
    "filesTransfer = []\n",
    "for f in args.files:\n",
    "    fn_abs = os.path.abspath(f)\n",
    "    fn = os.path.basename(fn_abs)\n",
    "    size = os.path.getsize(fn_abs)\n",
    "\n",
    "    files[fn+':'+str(size)] = {\n",
    "        'name': fn,\n",
    "        'size': size,\n",
    "        'path': fn_abs\n",
    "    }\n",
    "    filesTransfer.append({'name': fn, 'size': size})\n",
    "\n",
    "troptions = {'get_a_link': 0}\n",
    "\n",
    "\n",
    "transfer = postTransfer(username,\n",
    "                        filesTransfer,\n",
    "                        args.recipients,\n",
    "                        subject=args.subject,\n",
    "                        message=args.message,\n",
    "                        expires=None,\n",
    "                        options=troptions)['created']\n",
    "# print(transfer)\n"
   ]
  },
  {
   "cell_type": "code",
   "execution_count": 31,
   "id": "d4ae0936-fa1c-42d7-9e2f-5bfe881c617e",
   "metadata": {},
   "outputs": [
    {
     "data": {
      "text/plain": [
       "{'id': 3136141,\n",
       " 'userid': 76641,\n",
       " 'user_email': 'paul.wang@adelaide.edu.au',\n",
       " 'subject': 'subject',\n",
       " 'message': 'messagebody',\n",
       " 'created': {'raw': 1699402066, 'formatted': '08/11/2023'},\n",
       " 'expires': {'raw': '1701216458', 'formatted': '29/11/2023'},\n",
       " 'expiry_date_extension': 0,\n",
       " 'options': {'get_a_link': False,\n",
       "  'add_me_to_recipients': False,\n",
       "  'email_recipient_when_transfer_expires': True,\n",
       "  'encryption': False},\n",
       " 'salt': 'SN+YL69fE7nKmKQg8RgdWcZw5kYfOfa9',\n",
       " 'roundtriptoken': '47a4883b48af99729f9925b0ee646d55',\n",
       " 'files': [{'id': 21002636,\n",
       "   'transfer_id': 3136141,\n",
       "   'uid': 'cd5c8200-dd00-4c95-b796-74b6f21a0ee2',\n",
       "   'name': 'bowtie-1.3.1-linux-x86_64.zip',\n",
       "   'size': 52387989,\n",
       "   'sha1': None,\n",
       "   'cid': None},\n",
       "  {'id': 21002641,\n",
       "   'transfer_id': 3136141,\n",
       "   'uid': '85740666-ba8b-4ef7-bca0-73d76c65382d',\n",
       "   'name': 'Gong et al. - 2022 - Analysis and Performance Assessment of the Whole G.pdf',\n",
       "   'size': 2525461,\n",
       "   'sha1': None,\n",
       "   'cid': None},\n",
       "  {'id': 21002646,\n",
       "   'transfer_id': 3136141,\n",
       "   'uid': '21b81080-8fe5-4d2e-b297-f64e9c95c61b',\n",
       "   'name': 'I100_issuu_sub.pdf',\n",
       "   'size': 111724013,\n",
       "   'sha1': None,\n",
       "   'cid': None}],\n",
       " 'recipients': [{'id': 5453686,\n",
       "   'transfer_id': 3136141,\n",
       "   'token': 'd978869c-23b2-40fd-9f98-b92b79e94964',\n",
       "   'email': 'paul.wang@sahmri.com',\n",
       "   'created': {'raw': 1699402066, 'formatted': '08/11/2023'},\n",
       "   'last_activity': None,\n",
       "   'options': None,\n",
       "   'download_url': 'https://filesender.aarnet.edu.au/?s=download&token=d978869c-23b2-40fd-9f98-b92b79e94964',\n",
       "   'errors': []}]}"
      ]
     },
     "execution_count": 31,
     "metadata": {},
     "output_type": "execute_result"
    }
   ],
   "source": [
    "transfer"
   ]
  },
  {
   "cell_type": "code",
   "execution_count": 32,
   "id": "87b8dfb8-cee3-43eb-80fc-68ddbf433677",
   "metadata": {},
   "outputs": [
    {
     "data": {
      "text/plain": [
       "{'id': 21002636,\n",
       " 'transfer_id': 3136141,\n",
       " 'uid': 'cd5c8200-dd00-4c95-b796-74b6f21a0ee2',\n",
       " 'name': 'bowtie-1.3.1-linux-x86_64.zip',\n",
       " 'size': 52387989,\n",
       " 'sha1': None,\n",
       " 'cid': None}"
      ]
     },
     "execution_count": 32,
     "metadata": {},
     "output_type": "execute_result"
    }
   ],
   "source": [
    "transfer[\"files\"][0]"
   ]
  },
  {
   "cell_type": "code",
   "execution_count": 33,
   "id": "73c240a3-daa9-4a98-9812-b1fad945c929",
   "metadata": {},
   "outputs": [
    {
     "data": {
      "text/plain": [
       "{'name': 'bowtie-1.3.1-linux-x86_64.zip',\n",
       " 'size': 52387989,\n",
       " 'path': '/home/paul/Downloads/bowtie-1.3.1-linux-x86_64.zip'}"
      ]
     },
     "execution_count": 33,
     "metadata": {},
     "output_type": "execute_result"
    }
   ],
   "source": [
    "files['bowtie-1.3.1-linux-x86_64.zip:52387989']"
   ]
  },
  {
   "cell_type": "code",
   "execution_count": 35,
   "id": "f3041ff4-c2de-487e-8dbd-826f79fdde2f",
   "metadata": {},
   "outputs": [
    {
     "data": {
      "text/plain": [
       "[{'name': 'bowtie-1.3.1-linux-x86_64.zip', 'size': 52387989},\n",
       " {'name': 'Gong et al. - 2022 - Analysis and Performance Assessment of the Whole G.pdf',\n",
       "  'size': 2525461},\n",
       " {'name': 'I100_issuu_sub.pdf', 'size': 111724013}]"
      ]
     },
     "execution_count": 35,
     "metadata": {},
     "output_type": "execute_result"
    }
   ],
   "source": [
    "filesTransfer"
   ]
  },
  {
   "cell_type": "code",
   "execution_count": 34,
   "id": "b1018a71-9a61-46b8-b9cf-e3f60304b1b4",
   "metadata": {},
   "outputs": [
    {
     "name": "stdout",
     "output_type": "stream",
     "text": [
      "putChunks: /home/paul/Downloads/bowtie-1.3.1-linux-x86_64.zip\n",
      "Uploading: /home/paul/Downloads/bowtie-1.3.1-linux-x86_64.zip 0-12582912 0%\n",
      "uploaded 1 chunks\n",
      "Uploading: /home/paul/Downloads/bowtie-1.3.1-linux-x86_64.zip 12582912-25165824 24%\n",
      "uploaded 2 chunks\n",
      "Uploading: /home/paul/Downloads/bowtie-1.3.1-linux-x86_64.zip 25165824-37748736 48%\n",
      "uploaded 3 chunks\n",
      "Uploading: /home/paul/Downloads/bowtie-1.3.1-linux-x86_64.zip 37748736-50331648 72%\n",
      "uploaded 4 chunks\n",
      "Uploading: /home/paul/Downloads/bowtie-1.3.1-linux-x86_64.zip 50331648-52387989 96%\n",
      "uploaded 5 chunks\n",
      "fileComplete: /home/paul/Downloads/bowtie-1.3.1-linux-x86_64.zip\n",
      "Uploading: /home/paul/Downloads/bowtie-1.3.1-linux-x86_64.zip 111724013 100%\n",
      "putChunks: /home/paul/Zotero/storage/QS8AEKXV/Gong et al. - 2022 - Analysis and Performance Assessment of the Whole G.pdf\n",
      "Uploading: /home/paul/Zotero/storage/QS8AEKXV/Gong et al. - 2022 - Analysis and Performance Assessment of the Whole G.pdf 0-2525461 0%\n",
      "uploaded 1 chunks\n",
      "fileComplete: /home/paul/Zotero/storage/QS8AEKXV/Gong et al. - 2022 - Analysis and Performance Assessment of the Whole G.pdf\n",
      "Uploading: /home/paul/Zotero/storage/QS8AEKXV/Gong et al. - 2022 - Analysis and Performance Assessment of the Whole G.pdf 111724013 100%\n",
      "putChunks: /home/paul/Downloads/I100_issuu_sub.pdf\n",
      "Uploading: /home/paul/Downloads/I100_issuu_sub.pdf 0-12582912 0%\n",
      "uploaded 1 chunks\n",
      "Uploading: /home/paul/Downloads/I100_issuu_sub.pdf 12582912-25165824 11%\n",
      "uploaded 2 chunks\n",
      "Uploading: /home/paul/Downloads/I100_issuu_sub.pdf 25165824-37748736 23%\n",
      "uploaded 3 chunks\n",
      "Uploading: /home/paul/Downloads/I100_issuu_sub.pdf 37748736-50331648 34%\n",
      "uploaded 4 chunks\n",
      "Uploading: /home/paul/Downloads/I100_issuu_sub.pdf 50331648-62914560 45%\n",
      "uploaded 5 chunks\n",
      "Uploading: /home/paul/Downloads/I100_issuu_sub.pdf 62914560-75497472 56%\n",
      "uploaded 6 chunks\n",
      "Uploading: /home/paul/Downloads/I100_issuu_sub.pdf 75497472-88080384 68%\n",
      "uploaded 7 chunks\n",
      "Uploading: /home/paul/Downloads/I100_issuu_sub.pdf 88080384-100663296 79%\n",
      "uploaded 8 chunks\n",
      "Uploading: /home/paul/Downloads/I100_issuu_sub.pdf 100663296-111724013 90%\n",
      "uploaded 9 chunks\n",
      "fileComplete: /home/paul/Downloads/I100_issuu_sub.pdf\n",
      "Uploading: /home/paul/Downloads/I100_issuu_sub.pdf 111724013 100%\n",
      "12.793052196502686\n"
     ]
    }
   ],
   "source": [
    "\n",
    "t0 = time.time()\n",
    "\n",
    "n_procs = 1\n",
    "\n",
    "task = partial(upload_file, \n",
    "               transferData=transfer, \n",
    "               filesData=files,\n",
    "               upload_chunk_size=upload_chunk_size,\n",
    "               debug=debug)\n",
    "\n",
    "pool = Pool(n_procs)\n",
    "pool.map(task, transfer['files'])\n",
    "pool.close()\n",
    "\n",
    "t1 = time.time()\n",
    "\n",
    "print(t1-t0)\n",
    "\n",
    "\n",
    "\n"
   ]
  },
  {
   "cell_type": "code",
   "execution_count": null,
   "id": "1cc3d723-f691-40d2-b366-9405fc0eddd1",
   "metadata": {},
   "outputs": [],
   "source": [
    "# transferComplete\n",
    "if debug:\n",
    "    print('transferComplete')\n",
    "transferComplete(transfer)\n",
    "if progress:\n",
    "    print('Upload Complete')\n"
   ]
  },
  {
   "cell_type": "code",
   "execution_count": null,
   "id": "c1879a55-b673-48b4-be9b-408c17cebe73",
   "metadata": {},
   "outputs": [],
   "source": []
  },
  {
   "cell_type": "code",
   "execution_count": null,
   "id": "fe950d81-6a72-4c15-9448-5aa4dc649321",
   "metadata": {},
   "outputs": [],
   "source": []
  },
  {
   "cell_type": "code",
   "execution_count": null,
   "id": "71800f3b-be28-41fa-a1ab-b15ba9a0be82",
   "metadata": {},
   "outputs": [],
   "source": []
  },
  {
   "cell_type": "code",
   "execution_count": null,
   "id": "94e3c4db-5e18-4f26-9e25-e13c9e520e1f",
   "metadata": {},
   "outputs": [],
   "source": []
  },
  {
   "cell_type": "code",
   "execution_count": null,
   "id": "034b19e8-3f54-42ba-a596-9b4444c0ba08",
   "metadata": {},
   "outputs": [],
   "source": []
  },
  {
   "cell_type": "code",
   "execution_count": null,
   "id": "2c681025-50bc-47d0-9e3e-33ea5620e7b5",
   "metadata": {},
   "outputs": [],
   "source": []
  },
  {
   "cell_type": "code",
   "execution_count": null,
   "id": "b5f60f2a-a203-4006-91a3-de462b87e228",
   "metadata": {},
   "outputs": [],
   "source": []
  },
  {
   "cell_type": "code",
   "execution_count": null,
   "id": "96bb446b-1c61-4efe-b04b-4e6b73dee612",
   "metadata": {},
   "outputs": [],
   "source": [
    "\n",
    "try:\n",
    "    for f in transfer['files']:\n",
    "        path = files[f['name']+':'+str(f['size'])]['path']\n",
    "        size = files[f['name']+':'+str(f['size'])]['size']\n",
    "        # putChunks\n",
    "        if debug:\n",
    "            print('putChunks: '+path)\n",
    "        with open(path, mode='rb', buffering=0) as fin:\n",
    "            for offset in range(0, size, upload_chunk_size):\n",
    "                if progress:\n",
    "                    print('Uploading: '+path+' '+str(offset)+'-'+str(min(offset +\n",
    "                          upload_chunk_size, size))+' '+str(round(offset/size*100))+'%')\n",
    "                data = fin.read(upload_chunk_size)\n",
    "                # print(data)\n",
    "                putChunk(transfer, f, data, offset)\n",
    "\n",
    "        # fileComplete\n",
    "        if debug:\n",
    "            print('fileComplete: '+path)\n",
    "        fileComplete(transfer, f)\n",
    "        if progress:\n",
    "            print('Uploading: '+path+' '+str(size)+' 100%')\n",
    "\n",
    "    # transferComplete\n",
    "    if debug:\n",
    "        print('transferComplete')\n",
    "    transferComplete(transfer)\n",
    "    if progress:\n",
    "        print('Upload Complete')\n",
    "\n",
    "except Exception as inst:\n",
    "    print(type(inst))\n",
    "    print(inst.args)\n",
    "    print(inst)\n",
    "\n",
    "    # deleteTransfer\n",
    "    if debug:\n",
    "        print('deleteTransfer')\n",
    "    deleteTransfer(transfer)\n"
   ]
  },
  {
   "cell_type": "code",
   "execution_count": null,
   "id": "a9d143fc-a528-4886-9c70-8cbfdd8b4546",
   "metadata": {},
   "outputs": [],
   "source": []
  },
  {
   "cell_type": "code",
   "execution_count": null,
   "id": "34feda0c-aa35-4863-a6a8-bd205de2decb",
   "metadata": {},
   "outputs": [],
   "source": []
  },
  {
   "cell_type": "code",
   "execution_count": null,
   "id": "e0179d24-3cd6-4994-9868-289295d2869b",
   "metadata": {},
   "outputs": [],
   "source": []
  }
 ],
 "metadata": {
  "kernelspec": {
   "display_name": "Python 3 (ipykernel)",
   "language": "python",
   "name": "python3"
  },
  "language_info": {
   "codemirror_mode": {
    "name": "ipython",
    "version": 3
   },
   "file_extension": ".py",
   "mimetype": "text/x-python",
   "name": "python",
   "nbconvert_exporter": "python",
   "pygments_lexer": "ipython3",
   "version": "3.10.12"
  }
 },
 "nbformat": 4,
 "nbformat_minor": 5
}
